{
 "cells": [
  {
   "cell_type": "code",
   "execution_count": 2,
   "id": "37e178cd",
   "metadata": {},
   "outputs": [],
   "source": [
    "import numpy as np\n",
    "import pandas as pd\n",
    "import redis"
   ]
  },
  {
   "cell_type": "code",
   "execution_count": 3,
   "id": "7e634bdc",
   "metadata": {},
   "outputs": [],
   "source": [
    "r = redis.StrictRedis(host='redis-13644.c270.us-east-1-3.ec2.cloud.redislabs.com', port=13644, password='W3ajhhIRdKp8DUHt6CuTgOSQcg5FdXQ1')"
   ]
  },
  {
   "cell_type": "code",
   "execution_count": 4,
   "id": "3711263e",
   "metadata": {},
   "outputs": [
    {
     "data": {
      "text/plain": [
       "True"
      ]
     },
     "execution_count": 4,
     "metadata": {},
     "output_type": "execute_result"
    }
   ],
   "source": [
    "r.ping()"
   ]
  },
  {
   "cell_type": "code",
   "execution_count": 5,
   "id": "d85eb4cd",
   "metadata": {},
   "outputs": [
    {
     "data": {
      "text/plain": [
       "[b'foo', b'KEY', b'ESSAGE', b'MESSAGE', b'academy:register']"
      ]
     },
     "execution_count": 5,
     "metadata": {},
     "output_type": "execute_result"
    }
   ],
   "source": [
    "r.keys()"
   ]
  },
  {
   "cell_type": "code",
   "execution_count": 6,
   "id": "ea88acb8",
   "metadata": {},
   "outputs": [
    {
     "data": {
      "text/html": [
       "<div>\n",
       "<style scoped>\n",
       "    .dataframe tbody tr th:only-of-type {\n",
       "        vertical-align: middle;\n",
       "    }\n",
       "\n",
       "    .dataframe tbody tr th {\n",
       "        vertical-align: top;\n",
       "    }\n",
       "\n",
       "    .dataframe thead th {\n",
       "        text-align: right;\n",
       "    }\n",
       "</style>\n",
       "<table border=\"1\" class=\"dataframe\">\n",
       "  <thead>\n",
       "    <tr style=\"text-align: right;\">\n",
       "      <th></th>\n",
       "      <th>Name</th>\n",
       "      <th>Role</th>\n",
       "      <th>Faciafeatures</th>\n",
       "    </tr>\n",
       "  </thead>\n",
       "  <tbody>\n",
       "    <tr>\n",
       "      <th>0</th>\n",
       "      <td>Angelina Jolie</td>\n",
       "      <td>student</td>\n",
       "      <td>[0.43242058, 1.0748497, -0.128624, -1.8332914,...</td>\n",
       "    </tr>\n",
       "    <tr>\n",
       "      <th>1</th>\n",
       "      <td>Barack Obama</td>\n",
       "      <td>teacher</td>\n",
       "      <td>[0.94858074, -0.5584053, 0.094820514, -1.27965...</td>\n",
       "    </tr>\n",
       "    <tr>\n",
       "      <th>2</th>\n",
       "      <td>Chris Evans</td>\n",
       "      <td>student</td>\n",
       "      <td>[0.72017145, -1.468415, -0.7781255, -1.4601074...</td>\n",
       "    </tr>\n",
       "    <tr>\n",
       "      <th>3</th>\n",
       "      <td>Morgan Freeman</td>\n",
       "      <td>teacher</td>\n",
       "      <td>[0.48535085, -0.61925495, -0.4069931, 1.068778...</td>\n",
       "    </tr>\n",
       "    <tr>\n",
       "      <th>4</th>\n",
       "      <td>Scarlett Johansson</td>\n",
       "      <td>student</td>\n",
       "      <td>[0.19131936, -0.4884374, -1.6902335, 0.4423968...</td>\n",
       "    </tr>\n",
       "  </tbody>\n",
       "</table>\n",
       "</div>"
      ],
      "text/plain": [
       "                 Name     Role  \\\n",
       "0      Angelina Jolie  student   \n",
       "1        Barack Obama  teacher   \n",
       "2         Chris Evans  student   \n",
       "3      Morgan Freeman  teacher   \n",
       "4  Scarlett Johansson  student   \n",
       "\n",
       "                                       Faciafeatures  \n",
       "0  [0.43242058, 1.0748497, -0.128624, -1.8332914,...  \n",
       "1  [0.94858074, -0.5584053, 0.094820514, -1.27965...  \n",
       "2  [0.72017145, -1.468415, -0.7781255, -1.4601074...  \n",
       "3  [0.48535085, -0.61925495, -0.4069931, 1.068778...  \n",
       "4  [0.19131936, -0.4884374, -1.6902335, 0.4423968...  "
      ]
     },
     "execution_count": 6,
     "metadata": {},
     "output_type": "execute_result"
    }
   ],
   "source": [
    "np_file=np.load('datafrane students teacher.npz',allow_pickle=True)\n",
    "x_values=np_file['arr_0']\n",
    "col_names=np_file['arr_1']\n",
    "df=pd.DataFrame(x_values,columns=col_names)\n",
    "df"
   ]
  },
  {
   "cell_type": "code",
   "execution_count": 7,
   "id": "ad90e69e",
   "metadata": {},
   "outputs": [
    {
     "data": {
      "text/html": [
       "<div>\n",
       "<style scoped>\n",
       "    .dataframe tbody tr th:only-of-type {\n",
       "        vertical-align: middle;\n",
       "    }\n",
       "\n",
       "    .dataframe tbody tr th {\n",
       "        vertical-align: top;\n",
       "    }\n",
       "\n",
       "    .dataframe thead th {\n",
       "        text-align: right;\n",
       "    }\n",
       "</style>\n",
       "<table border=\"1\" class=\"dataframe\">\n",
       "  <thead>\n",
       "    <tr style=\"text-align: right;\">\n",
       "      <th></th>\n",
       "      <th>Name</th>\n",
       "      <th>Role</th>\n",
       "      <th>Faciafeatures</th>\n",
       "      <th>name_role</th>\n",
       "    </tr>\n",
       "  </thead>\n",
       "  <tbody>\n",
       "    <tr>\n",
       "      <th>0</th>\n",
       "      <td>Angelina Jolie</td>\n",
       "      <td>student</td>\n",
       "      <td>[0.43242058, 1.0748497, -0.128624, -1.8332914,...</td>\n",
       "      <td>Angelina Jolie@student</td>\n",
       "    </tr>\n",
       "    <tr>\n",
       "      <th>1</th>\n",
       "      <td>Barack Obama</td>\n",
       "      <td>teacher</td>\n",
       "      <td>[0.94858074, -0.5584053, 0.094820514, -1.27965...</td>\n",
       "      <td>Barack Obama@teacher</td>\n",
       "    </tr>\n",
       "    <tr>\n",
       "      <th>2</th>\n",
       "      <td>Chris Evans</td>\n",
       "      <td>student</td>\n",
       "      <td>[0.72017145, -1.468415, -0.7781255, -1.4601074...</td>\n",
       "      <td>Chris Evans@student</td>\n",
       "    </tr>\n",
       "    <tr>\n",
       "      <th>3</th>\n",
       "      <td>Morgan Freeman</td>\n",
       "      <td>teacher</td>\n",
       "      <td>[0.48535085, -0.61925495, -0.4069931, 1.068778...</td>\n",
       "      <td>Morgan Freeman@teacher</td>\n",
       "    </tr>\n",
       "    <tr>\n",
       "      <th>4</th>\n",
       "      <td>Scarlett Johansson</td>\n",
       "      <td>student</td>\n",
       "      <td>[0.19131936, -0.4884374, -1.6902335, 0.4423968...</td>\n",
       "      <td>Scarlett Johansson@student</td>\n",
       "    </tr>\n",
       "  </tbody>\n",
       "</table>\n",
       "</div>"
      ],
      "text/plain": [
       "                 Name     Role  \\\n",
       "0      Angelina Jolie  student   \n",
       "1        Barack Obama  teacher   \n",
       "2         Chris Evans  student   \n",
       "3      Morgan Freeman  teacher   \n",
       "4  Scarlett Johansson  student   \n",
       "\n",
       "                                       Faciafeatures  \\\n",
       "0  [0.43242058, 1.0748497, -0.128624, -1.8332914,...   \n",
       "1  [0.94858074, -0.5584053, 0.094820514, -1.27965...   \n",
       "2  [0.72017145, -1.468415, -0.7781255, -1.4601074...   \n",
       "3  [0.48535085, -0.61925495, -0.4069931, 1.068778...   \n",
       "4  [0.19131936, -0.4884374, -1.6902335, 0.4423968...   \n",
       "\n",
       "                    name_role  \n",
       "0      Angelina Jolie@student  \n",
       "1        Barack Obama@teacher  \n",
       "2         Chris Evans@student  \n",
       "3      Morgan Freeman@teacher  \n",
       "4  Scarlett Johansson@student  "
      ]
     },
     "execution_count": 7,
     "metadata": {},
     "output_type": "execute_result"
    }
   ],
   "source": [
    "df['name_role']=df['Name']+'@'+df['Role']\n",
    "df"
   ]
  },
  {
   "cell_type": "code",
   "execution_count": 8,
   "id": "9862178f",
   "metadata": {},
   "outputs": [],
   "source": [
    "records=df[['name_role','Faciafeatures']].to_dict(orient='records')"
   ]
  },
  {
   "cell_type": "code",
   "execution_count": 9,
   "id": "bf51fda2",
   "metadata": {},
   "outputs": [],
   "source": [
    "for record in records:\n",
    "    name_role=record['name_role']\n",
    "    vector=record['Faciafeatures']\n",
    "    \n",
    "    vector_bytes=vector.tobytes()\n",
    "    r.hset(name='academy:register',key=name_role,value=vector_bytes)\n",
    "    "
   ]
  },
  {
   "cell_type": "code",
   "execution_count": 10,
   "id": "f969c13a",
   "metadata": {},
   "outputs": [],
   "source": [
    "import os\n",
    "import cv2\n",
    "from insightface.app import FaceAnalysis"
   ]
  },
  {
   "cell_type": "code",
   "execution_count": 11,
   "id": "ce0a29a8",
   "metadata": {},
   "outputs": [
    {
     "name": "stdout",
     "output_type": "stream",
     "text": [
      "Applied providers: ['CPUExecutionProvider'], with options: {'CPUExecutionProvider': {}}\n",
      "find model: insightface_model\\models\\buffalo_sc\\det_500m.onnx detection [1, 3, '?', '?'] 127.5 128.0\n",
      "Applied providers: ['CPUExecutionProvider'], with options: {'CPUExecutionProvider': {}}\n",
      "find model: insightface_model\\models\\buffalo_sc\\w600k_mbf.onnx recognition ['None', 3, 112, 112] 127.5 127.5\n",
      "set det-size: (640, 640)\n"
     ]
    }
   ],
   "source": [
    "faceapp= FaceAnalysis(name='buffalo_sc',root='insightface_model',providers=['CPUExecutionProvider'])\n",
    "faceapp.prepare(ctx_id=0,det_size=(640,640),det_thresh=0.5)"
   ]
  },
  {
   "cell_type": "code",
   "execution_count": null,
   "id": "9cf468b1",
   "metadata": {},
   "outputs": [],
   "source": [
    "person_name=input('Enter Your Name: ')\n",
    "\n",
    "tries = 3\n",
    "for i in range(tries):\n",
    "    role=int(input(\"\"\"\n",
    "    Please Choose\n",
    "    1. Student\n",
    "    2. Teacher\n",
    "    \n",
    "    Enter number either 1 or 2\n",
    "    \"\"\"))\n",
    "    \n",
    "    if role not in (1,2):\n",
    "        print('Invalid Entry')\n",
    "        if i==3:\n",
    "            print('Exceed maximum tries')\n",
    "            \n",
    "    else:\n",
    "        if role==1:\n",
    "            role='Student'\n",
    "        else:\n",
    "            role='Teacher'\n",
    "        break\n",
    "            \n",
    "key = person_name+'@'+role\n",
    "print('\\nYour Name = ',person_name)\n",
    "print('Your role = ',role)\n",
    "print('key = ',key)"
   ]
  },
  {
   "cell_type": "code",
   "execution_count": null,
   "id": "ba2be6bd",
   "metadata": {},
   "outputs": [],
   "source": [
    "cap = cv2.VideoCapture(0)\n",
    "embedding_list = []\n",
    "samples=0\n",
    "while True:\n",
    "    ret,frame=cap.read()\n",
    "    if ret==False:\n",
    "        print('Unable to read camera')\n",
    "        break\n",
    "        \n",
    "    results=faceapp.get(frame,max_num=1)\n",
    "    for res in results:\n",
    "        samples+=1\n",
    "        x1,y1,x2,y2=res['bbox'].astype(int)\n",
    "        embedding=res['embedding']\n",
    "        embedding_list.append(embedding)\n",
    "        \n",
    "        cv2.rectangle(frame,(x1,y1),(x2,y2),(0,255,0),1)\n",
    "        \n",
    "        \n",
    "    if samples >= 100:\n",
    "        break\n",
    "        \n",
    "    cv2.imshow('frame',frame)\n",
    "    if cv2.waitKey(1) == ord('q'):\n",
    "        break\n",
    "        \n",
    "cv2.destroyAllWindows()\n",
    "cap.release()\n",
    "        \n",
    "        \n",
    "        \n",
    "        \n",
    "        \n",
    "        "
   ]
  },
  {
   "cell_type": "code",
   "execution_count": 14,
   "id": "7135d97e",
   "metadata": {},
   "outputs": [
    {
     "data": {
      "text/plain": [
       "(512,)"
      ]
     },
     "execution_count": 14,
     "metadata": {},
     "output_type": "execute_result"
    }
   ],
   "source": [
    "facial_features=np.asarray(embedding_list).mean(axis=0)\n",
    "facial_features.shape"
   ]
  },
  {
   "cell_type": "code",
   "execution_count": 17,
   "id": "c6f93132",
   "metadata": {},
   "outputs": [
    {
     "ename": "NameError",
     "evalue": "name 'key' is not defined",
     "output_type": "error",
     "traceback": [
      "\u001b[1;31m---------------------------------------------------------------------------\u001b[0m",
      "\u001b[1;31mNameError\u001b[0m                                 Traceback (most recent call last)",
      "Cell \u001b[1;32mIn[17], line 2\u001b[0m\n\u001b[0;32m      1\u001b[0m facial_features_bytes\u001b[38;5;241m=\u001b[39mfacial_features\u001b[38;5;241m.\u001b[39mtobytes()\n\u001b[1;32m----> 2\u001b[0m r\u001b[38;5;241m.\u001b[39mhset(name\u001b[38;5;241m=\u001b[39m\u001b[38;5;124m'\u001b[39m\u001b[38;5;124macademy:register\u001b[39m\u001b[38;5;124m'\u001b[39m,key\u001b[38;5;241m=\u001b[39m\u001b[43mkey\u001b[49m,value\u001b[38;5;241m=\u001b[39mfacial_features_bytes)\n",
      "\u001b[1;31mNameError\u001b[0m: name 'key' is not defined"
     ]
    }
   ],
   "source": [
    "facial_features_bytes=facial_features.tobytes()\n",
    "r.hset(name='academy:register',key=key,value=facial_features_bytes)"
   ]
  },
  {
   "cell_type": "code",
   "execution_count": 15,
   "id": "1f94f4ef",
   "metadata": {},
   "outputs": [
    {
     "data": {
      "text/plain": [
       "0"
      ]
     },
     "execution_count": 15,
     "metadata": {},
     "output_type": "execute_result"
    }
   ],
   "source": [
    "len(embedding_list)"
   ]
  },
  {
   "cell_type": "code",
   "execution_count": null,
   "id": "d6e62e50",
   "metadata": {},
   "outputs": [],
   "source": []
  }
 ],
 "metadata": {
  "kernelspec": {
   "display_name": "Python 3 (ipykernel)",
   "language": "python",
   "name": "python3"
  },
  "language_info": {
   "codemirror_mode": {
    "name": "ipython",
    "version": 3
   },
   "file_extension": ".py",
   "mimetype": "text/x-python",
   "name": "python",
   "nbconvert_exporter": "python",
   "pygments_lexer": "ipython3",
   "version": "3.9.7"
  }
 },
 "nbformat": 4,
 "nbformat_minor": 5
}

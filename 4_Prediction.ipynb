{
 "cells": [
  {
   "cell_type": "code",
   "execution_count": 1,
   "id": "e2446f1a",
   "metadata": {},
   "outputs": [
    {
     "name": "stdout",
     "output_type": "stream",
     "text": [
      "Applied providers: ['CPUExecutionProvider'], with options: {'CPUExecutionProvider': {}}\n",
      "find model: insightface_model\\models\\buffalo_sc\\det_500m.onnx detection [1, 3, '?', '?'] 127.5 128.0\n",
      "Applied providers: ['CPUExecutionProvider'], with options: {'CPUExecutionProvider': {}}\n",
      "find model: insightface_model\\models\\buffalo_sc\\w600k_mbf.onnx recognition ['None', 3, 112, 112] 127.5 127.5\n",
      "set det-size: (640, 640)\n"
     ]
    }
   ],
   "source": [
    "import pandas as pd\n",
    "import cv2\n",
    "import numpy as np\n",
    "import face_rec"
   ]
  },
  {
   "cell_type": "code",
   "execution_count": 2,
   "id": "4402554c",
   "metadata": {},
   "outputs": [
    {
     "data": {
      "text/plain": [
       "True"
      ]
     },
     "execution_count": 2,
     "metadata": {},
     "output_type": "execute_result"
    }
   ],
   "source": [
    "face_rec.r.ping()"
   ]
  },
  {
   "cell_type": "code",
   "execution_count": 3,
   "id": "c2b741bf",
   "metadata": {},
   "outputs": [
    {
     "data": {
      "text/html": [
       "<div>\n",
       "<style scoped>\n",
       "    .dataframe tbody tr th:only-of-type {\n",
       "        vertical-align: middle;\n",
       "    }\n",
       "\n",
       "    .dataframe tbody tr th {\n",
       "        vertical-align: top;\n",
       "    }\n",
       "\n",
       "    .dataframe thead th {\n",
       "        text-align: right;\n",
       "    }\n",
       "</style>\n",
       "<table border=\"1\" class=\"dataframe\">\n",
       "  <thead>\n",
       "    <tr style=\"text-align: right;\">\n",
       "      <th></th>\n",
       "      <th>name_role</th>\n",
       "      <th>facial_features</th>\n",
       "    </tr>\n",
       "  </thead>\n",
       "  <tbody>\n",
       "    <tr>\n",
       "      <th>0</th>\n",
       "      <td>Chris Evans@student</td>\n",
       "      <td>[0.72017145, -1.468415, -0.7781255, -1.4601074...</td>\n",
       "    </tr>\n",
       "    <tr>\n",
       "      <th>1</th>\n",
       "      <td>Kaushal@Teacher</td>\n",
       "      <td>[0.0, nan]</td>\n",
       "    </tr>\n",
       "    <tr>\n",
       "      <th>2</th>\n",
       "      <td>KAUSHAL@Student</td>\n",
       "      <td>[0.0, nan]</td>\n",
       "    </tr>\n",
       "    <tr>\n",
       "      <th>3</th>\n",
       "      <td>Angelina Jolie@student</td>\n",
       "      <td>[0.43242058, 1.0748497, -0.128624, -1.8332914,...</td>\n",
       "    </tr>\n",
       "    <tr>\n",
       "      <th>4</th>\n",
       "      <td>Barack Obama@teacher</td>\n",
       "      <td>[0.94858074, -0.5584053, 0.094820514, -1.27965...</td>\n",
       "    </tr>\n",
       "    <tr>\n",
       "      <th>5</th>\n",
       "      <td>Scarlett Johansson@student</td>\n",
       "      <td>[0.19131936, -0.4884374, -1.6902335, 0.4423968...</td>\n",
       "    </tr>\n",
       "    <tr>\n",
       "      <th>6</th>\n",
       "      <td>Morgan Freeman@teacher</td>\n",
       "      <td>[0.48535085, -0.61925495, -0.4069931, 1.068778...</td>\n",
       "    </tr>\n",
       "  </tbody>\n",
       "</table>\n",
       "</div>"
      ],
      "text/plain": [
       "                    name_role  \\\n",
       "0         Chris Evans@student   \n",
       "1             Kaushal@Teacher   \n",
       "2             KAUSHAL@Student   \n",
       "3      Angelina Jolie@student   \n",
       "4        Barack Obama@teacher   \n",
       "5  Scarlett Johansson@student   \n",
       "6      Morgan Freeman@teacher   \n",
       "\n",
       "                                     facial_features  \n",
       "0  [0.72017145, -1.468415, -0.7781255, -1.4601074...  \n",
       "1                                         [0.0, nan]  \n",
       "2                                         [0.0, nan]  \n",
       "3  [0.43242058, 1.0748497, -0.128624, -1.8332914,...  \n",
       "4  [0.94858074, -0.5584053, 0.094820514, -1.27965...  \n",
       "5  [0.19131936, -0.4884374, -1.6902335, 0.4423968...  \n",
       "6  [0.48535085, -0.61925495, -0.4069931, 1.068778...  "
      ]
     },
     "execution_count": 3,
     "metadata": {},
     "output_type": "execute_result"
    }
   ],
   "source": [
    "name='academy:register'\n",
    "retrive_dict=face_rec.r.hgetall(name)\n",
    "retrive_series=pd.Series(retrive_dict)\n",
    "retrive_series=retrive_series.apply(lambda x: np.frombuffer(x,dtype=np.float32))\n",
    "index=retrive_series.index\n",
    "index=list(map(lambda x:x.decode(),index))\n",
    "retrive_series.index=index\n",
    "retrive_df=retrive_series.to_frame().reset_index()\n",
    "retrive_df.columns=['name_role','facial_features']\n",
    "retrive_df"
   ]
  },
  {
   "cell_type": "code",
   "execution_count": 5,
   "id": "b365e7ab",
   "metadata": {},
   "outputs": [
    {
     "ename": "ValueError",
     "evalue": "setting an array element with a sequence. The requested array has an inhomogeneous shape after 1 dimensions. The detected shape was (7,) + inhomogeneous part.",
     "output_type": "error",
     "traceback": [
      "\u001b[1;31m---------------------------------------------------------------------------\u001b[0m",
      "\u001b[1;31mValueError\u001b[0m                                Traceback (most recent call last)",
      "Cell \u001b[1;32mIn[5], line 9\u001b[0m\n\u001b[0;32m      6\u001b[0m \u001b[38;5;28;01mif\u001b[39;00m ret \u001b[38;5;241m==\u001b[39m \u001b[38;5;28;01mFalse\u001b[39;00m:\n\u001b[0;32m      7\u001b[0m     \u001b[38;5;28;01mbreak\u001b[39;00m\n\u001b[1;32m----> 9\u001b[0m pred_frame\u001b[38;5;241m=\u001b[39m\u001b[43mface_rec\u001b[49m\u001b[38;5;241;43m.\u001b[39;49m\u001b[43mface_prediction\u001b[49m\u001b[43m(\u001b[49m\u001b[43mframe\u001b[49m\u001b[43m,\u001b[49m\u001b[43mretrive_df\u001b[49m\u001b[43m,\u001b[49m\u001b[38;5;124;43m'\u001b[39;49m\u001b[38;5;124;43mfacial_features\u001b[39;49m\u001b[38;5;124;43m'\u001b[39;49m\u001b[43m,\u001b[49m\u001b[43m[\u001b[49m\u001b[38;5;124;43m'\u001b[39;49m\u001b[38;5;124;43mName\u001b[39;49m\u001b[38;5;124;43m'\u001b[39;49m\u001b[43m,\u001b[49m\u001b[38;5;124;43m'\u001b[39;49m\u001b[38;5;124;43mRole\u001b[39;49m\u001b[38;5;124;43m'\u001b[39;49m\u001b[43m]\u001b[49m\u001b[43m,\u001b[49m\u001b[43mthresh\u001b[49m\u001b[38;5;241;43m=\u001b[39;49m\u001b[38;5;241;43m0.5\u001b[39;49m\u001b[43m)\u001b[49m\n\u001b[0;32m     11\u001b[0m cv2\u001b[38;5;241m.\u001b[39mimshow(\u001b[38;5;124m'\u001b[39m\u001b[38;5;124mframe\u001b[39m\u001b[38;5;124m'\u001b[39m,frame)\n\u001b[0;32m     12\u001b[0m cv2\u001b[38;5;241m.\u001b[39mimshow(\u001b[38;5;124m'\u001b[39m\u001b[38;5;124mprediction\u001b[39m\u001b[38;5;124m'\u001b[39m,pred_frame)\n",
      "File \u001b[1;32m~\\Documents\\Mini Project\\Attendance System\\2_Fast_Face_Recognition_System\\face_rec.py:50\u001b[0m, in \u001b[0;36mface_prediction\u001b[1;34m(test_image, dataframe, feature_column, name_role, thresh)\u001b[0m\n\u001b[0;32m     48\u001b[0m x1,y1,x2,y2\u001b[38;5;241m=\u001b[39mres[\u001b[38;5;124m'\u001b[39m\u001b[38;5;124mbbox\u001b[39m\u001b[38;5;124m'\u001b[39m]\u001b[38;5;241m.\u001b[39mastype(\u001b[38;5;28mint\u001b[39m)\n\u001b[0;32m     49\u001b[0m embeddings\u001b[38;5;241m=\u001b[39mres[\u001b[38;5;124m'\u001b[39m\u001b[38;5;124membedding\u001b[39m\u001b[38;5;124m'\u001b[39m]\n\u001b[1;32m---> 50\u001b[0m person_name,person_role\u001b[38;5;241m=\u001b[39m\u001b[43mml_search_algorithm\u001b[49m\u001b[43m(\u001b[49m\u001b[43mdataframe\u001b[49m\u001b[43m,\u001b[49m\u001b[43mfeature_column\u001b[49m\u001b[43m,\u001b[49m\u001b[43mtest_vector\u001b[49m\u001b[38;5;241;43m=\u001b[39;49m\u001b[43membeddings\u001b[49m\u001b[43m,\u001b[49m\u001b[43mname_role\u001b[49m\u001b[38;5;241;43m=\u001b[39;49m\u001b[43mname_role\u001b[49m\u001b[43m,\u001b[49m\u001b[43mthresh\u001b[49m\u001b[38;5;241;43m=\u001b[39;49m\u001b[43mthresh\u001b[49m\u001b[43m)\u001b[49m\n\u001b[0;32m     52\u001b[0m \u001b[38;5;28;01mif\u001b[39;00m person_name\u001b[38;5;241m==\u001b[39m\u001b[38;5;124m'\u001b[39m\u001b[38;5;124mUnknown\u001b[39m\u001b[38;5;124m'\u001b[39m:\n\u001b[0;32m     53\u001b[0m     color\u001b[38;5;241m=\u001b[39m(\u001b[38;5;241m0\u001b[39m,\u001b[38;5;241m0\u001b[39m,\u001b[38;5;241m255\u001b[39m)\n",
      "File \u001b[1;32m~\\Documents\\Mini Project\\Attendance System\\2_Fast_Face_Recognition_System\\face_rec.py:22\u001b[0m, in \u001b[0;36mml_search_algorithm\u001b[1;34m(dataframe, feature_column, test_vector, name_role, thresh)\u001b[0m\n\u001b[0;32m     19\u001b[0m dataframe\u001b[38;5;241m=\u001b[39mdataframe\u001b[38;5;241m.\u001b[39mcopy()\n\u001b[0;32m     21\u001b[0m X_list\u001b[38;5;241m=\u001b[39mdataframe[feature_column]\u001b[38;5;241m.\u001b[39mtolist()\n\u001b[1;32m---> 22\u001b[0m x\u001b[38;5;241m=\u001b[39m\u001b[43mnp\u001b[49m\u001b[38;5;241;43m.\u001b[39;49m\u001b[43masarray\u001b[49m\u001b[43m(\u001b[49m\u001b[43mX_list\u001b[49m\u001b[43m)\u001b[49m\n\u001b[0;32m     24\u001b[0m similar\u001b[38;5;241m=\u001b[39mpairwise\u001b[38;5;241m.\u001b[39mcosine_similarity(x,test_vector\u001b[38;5;241m.\u001b[39mreshape(\u001b[38;5;241m1\u001b[39m,\u001b[38;5;241m-\u001b[39m\u001b[38;5;241m1\u001b[39m))\n\u001b[0;32m     25\u001b[0m similar_arr\u001b[38;5;241m=\u001b[39mnp\u001b[38;5;241m.\u001b[39marray(similar)\u001b[38;5;241m.\u001b[39mflatten()\n",
      "\u001b[1;31mValueError\u001b[0m: setting an array element with a sequence. The requested array has an inhomogeneous shape after 1 dimensions. The detected shape was (7,) + inhomogeneous part."
     ]
    }
   ],
   "source": [
    "cap=cv2.VideoCapture(1)\n",
    "\n",
    "while True:\n",
    "    ret,frame=cap.read()\n",
    "    \n",
    "    if ret == False:\n",
    "        break\n",
    "    \n",
    "    pred_frame=face_rec.face_prediction(frame,retrive_df,'facial_features',['Name','Role'],thresh=0.5)\n",
    "    \n",
    "    cv2.imshow('frame',frame)\n",
    "    cv2.imshow('prediction',pred_frame)\n",
    "    \n",
    "    if cv2.waitKey(1)==27:\n",
    "        break\n",
    "        \n",
    "cv2.destroyAllWindows()\n",
    "cap.release()"
   ]
  },
  {
   "cell_type": "code",
   "execution_count": null,
   "id": "e047108f",
   "metadata": {},
   "outputs": [],
   "source": []
  }
 ],
 "metadata": {
  "kernelspec": {
   "display_name": "Python 3 (ipykernel)",
   "language": "python",
   "name": "python3"
  },
  "language_info": {
   "codemirror_mode": {
    "name": "ipython",
    "version": 3
   },
   "file_extension": ".py",
   "mimetype": "text/x-python",
   "name": "python",
   "nbconvert_exporter": "python",
   "pygments_lexer": "ipython3",
   "version": "3.9.7"
  }
 },
 "nbformat": 4,
 "nbformat_minor": 5
}
